{
 "cells": [
  {
   "cell_type": "code",
   "execution_count": 3,
   "id": "8e06b5ac",
   "metadata": {},
   "outputs": [],
   "source": [
    "import pandas as pd"
   ]
  },
  {
   "cell_type": "code",
   "execution_count": 4,
   "id": "b47b491a",
   "metadata": {},
   "outputs": [],
   "source": [
    "r = pd.read_csv(\"PlantsInfo_after.csv\",encoding= 'unicode_escape')"
   ]
  },
  {
   "cell_type": "code",
   "execution_count": 5,
   "id": "7be8fe56",
   "metadata": {},
   "outputs": [],
   "source": [
    "df = pd.DataFrame(r)"
   ]
  },
  {
   "cell_type": "code",
   "execution_count": 23,
   "id": "4a5c91da",
   "metadata": {},
   "outputs": [],
   "source": [
    "bloom = (df[\"Bloom Time\"].unique())"
   ]
  },
  {
   "cell_type": "code",
   "execution_count": 24,
   "id": "22aab856",
   "metadata": {},
   "outputs": [
    {
     "data": {
      "text/plain": [
       "259"
      ]
     },
     "execution_count": 24,
     "metadata": {},
     "output_type": "execute_result"
    }
   ],
   "source": [
    "len(bloom)"
   ]
  },
  {
   "cell_type": "code",
   "execution_count": 26,
   "id": "6bdc87b2",
   "metadata": {},
   "outputs": [
    {
     "data": {
      "text/plain": [
       "'Spring (not typically grown for flowers)'"
      ]
     },
     "execution_count": 26,
     "metadata": {},
     "output_type": "execute_result"
    }
   ],
   "source": [
    "bloom[130]"
   ]
  },
  {
   "cell_type": "code",
   "execution_count": 12,
   "id": "09e3965f",
   "metadata": {
    "scrolled": false
   },
   "outputs": [
    {
     "data": {
      "text/plain": [
       "array([nan, 'Summer', 'Summer, fall', 'Spring', 'Spring, summer', 'March',\n",
       "       'Summer (second year)', 'Late summer to early fall',\n",
       "       'Winter, Spring', 'Spring to late summer', 'Winter',\n",
       "       'June through October', 'Spring to fall', 'June to September',\n",
       "       'Summer to fall', 'Summer to frost', 'Early spring, May',\n",
       "       'Spring to summer', 'Summer (rarely blooms)', 'Sporadic',\n",
       "       'March to April', 'Late spring', 'April', 'Spring, summer, fall',\n",
       "       'Late spring, early summer', 'May to June', 'May', 'Fall',\n",
       "       'Late winter to early spring', 'Spring; rarely blooms indoors',\n",
       "       'Late Summer', 'Rarely blooms indoors', 'Very occasional',\n",
       "       'Late spring to early fall', 'Early spring', 'June',\n",
       "       'Blooms once only', 'Early summer to fall', 'None',\n",
       "       'Late spring, early summer, and late summer', 'Rarely flowers',\n",
       "       'Blooms once; timing varies', 'Mid-spring to early fall',\n",
       "       'Summer, Fall', 'Spring, fall', 'Early summer', 'Varies',\n",
       "       'Early summer, fruits appear through fall', 'Fall, spring',\n",
       "       'June through August', 'Late summer and fall',\n",
       "       'Midsummer to late summer and early fall', 'Varies by species',\n",
       "       'Summer (outdoors)', 'March or April in zone 5',\n",
       "       'July to September', 'March to June', 'Summer and early fall',\n",
       "       'Late spring through summer', 'Spring and summer', 'Mid-spring',\n",
       "       'Mid-summer to fall', 'Summer/Fall',\n",
       "       'Spring (does not bloom indoors)', 'Summer (rarely flowers)',\n",
       "       'Flowers freely throughout season', 'Non-Flowering',\n",
       "       'Spring, Summer', 'No blooms', 'Summer, early fall',\n",
       "       'Rarely flowers indoors', 'Seasonal bloomer',\n",
       "       'Spring, summer, fall (varies according to species)',\n",
       "       'Late winter and spring', 'June to July', 'Late summer, fall',\n",
       "       'Seasonal', 'All season bloom', 'Midsummer',\n",
       "       'Mid-summer to early fall', 'Winter, spring', 'April to June',\n",
       "       'August to September', 'Summer/Early fall', 'Fall, winter',\n",
       "       'March and April', 'Non-flowering', 'Not applicable',\n",
       "       'Late spring to early summer (flowers are indistinct)', 'Autumn',\n",
       "       'Late July to Early September', 'April to May',\n",
       "       'Rarely flowers outside of its native area',\n",
       "       'Late spring to early summer; May to June', 'Rarely blooms',\n",
       "       'Varies; requires 6 weeks of 14-hour nights',\n",
       "       'Late summer through fall', 'Spring through frost',\n",
       "       'Mid to late summer', 'Spring, Summer, Fall', 'June to frost',\n",
       "       'Late spring to early summer', 'Late spring to mid-summer',\n",
       "       'Mid to late-summer', 'Spring to early summer',\n",
       "       'Spring to summer, sometimes early fall and year-round in warmer climates',\n",
       "       'Rarely blooms, but if it does, it will be between March and April',\n",
       "       'Does not bloom', 'Late spring/Early summer',\n",
       "       'Late spring, summer', 'Mid summer through fall', 'April-May',\n",
       "       'Late fall and early winter', 'Summer to early fall',\n",
       "       'Mid- to late summer', 'July',\n",
       "       'Year-round (rarely flower indoors)', 'Early summer to mid-fall',\n",
       "       'Once per lifetime', 'June-July', 'N/a',\n",
       "       'Year-round seasonal bloomer', 'Anytime, but flowers are small',\n",
       "       'Spring, summer (very occasional)', 'Late summer',\n",
       "       'Cyclical, every few months', 'July to August',\n",
       "       'November through March', 'Late Winter, Spring, Early Summer',\n",
       "       'April, May, and June', 'Spring (not typically grown for flowers)',\n",
       "       'Spring, summer (rarely blooms)', 'Spring to midsummer',\n",
       "       'Mid to late summer, often blooms until fall',\n",
       "       'Late spring to late summer', 'Every 40 to 60 years',\n",
       "       'Spring to fall (varies by species)', 'Mid-summer', 'Late Spring',\n",
       "       'Spring, summer, fall, winter', 'Varies; usually summer',\n",
       "       'Late Summer to Late Fall', 'Early summer to autumn',\n",
       "       'Spring, summer (varies by species)',\n",
       "       'Any time of year when temperature is warm enough',\n",
       "       'October-November', 'Late Summer, Fall', 'Summer through fall',\n",
       "       'Once, when fully matured', 'Spring and mid-summer through fall',\n",
       "       \"Doesn't bloom indoors\", 'Mid to late spring',\n",
       "       'Begins producing a single flower after 10â\\x80\\x9315 years',\n",
       "       'Between May and August depending on location',\n",
       "       'Indoor plants do not bloom, outdoor plants bloom during spring',\n",
       "       'March, April', 'Spring (not showy)', 'Late summer, early fall',\n",
       "       'Seasonal bloomer; blossoms 16 to 18 weeks after seed germination',\n",
       "       'Late April', 'Early summer to frost', 'April or May',\n",
       "       'Fall, Winter, Spring', 'September to October', 'Nonflowering',\n",
       "       'June to October', 'Spring (rarely flowers indoors)',\n",
       "       'July to frost', 'Not grown for flowers',\n",
       "       'Spring (blooms are rare)', 'March to August', 'April, May',\n",
       "       'Throughout the year', 'Late June through August',\n",
       "       'Flowers not showy', 'Early spring to late summer',\n",
       "       'Late summer to fall', 'March through to early June',\n",
       "       'June to August',\n",
       "       'Year-round when grown in ideal conditions; varies by species.',\n",
       "       'May, early June', 'Sporadically from April to August',\n",
       "       'Summer (flowers are fairly insignificant)',\n",
       "       'Mid-summer, early fall', 'Spring, fall, winter',\n",
       "       'Late fall and then again in late spring; nighttime bloomer',\n",
       "       'Late July to September', 'Spring, fall, intermittent',\n",
       "       'July-September', 'No Bloom', 'Late May to June',\n",
       "       'Spring, summer, fall (varies by species)', 'Summer or early fall',\n",
       "       'Late spring/early summer', 'Late winter or spring',\n",
       "       'Late summer, Fall', 'late spring; reblooms', 'March or April',\n",
       "       'Rarely blooms indoor', 'Late June/July',\n",
       "       'Cones/berries mature in fall', 'Periodic through the year',\n",
       "       'Spring and Summer', 'Spring/Summer/Fall',\n",
       "       'Mid-spring through summer', 'Spring, summer, early fall',\n",
       "       'Late fall, early winter', 'Fall, winter (does not bloom indoors)',\n",
       "       'Late fall/early winter', 'Not grown for its flower',\n",
       "       'April - June', 'Usually spring', 'Early spring to summer',\n",
       "       'Early Spring', 'Summer, fall, winter', 'Species specific',\n",
       "       'Late spring, summer, fall', 'May to October',\n",
       "       'Repeat bloomer, summer through fall',\n",
       "       'Summer, fall, and year-round in tropical climes',\n",
       "       'Spring (second growing season)', 'Up to 4 times annually',\n",
       "       'Late April to early May', 'Early to mid-spring',\n",
       "       'Spring, winter, fall', 'Mid-summer through fall',\n",
       "       'Fall, early winter', 'May to July', 'Depends on the cultivar',\n",
       "       'June through September', 'Early to mid summer',\n",
       "       'Summer (rarely blooms indoors)', 'Late spring to fall',\n",
       "       'May through August', 'Late winter, early spring',\n",
       "       'Fall, winter, spring', 'Summer (if it blooms)',\n",
       "       'Late fall, winter, early spring', 'Spring to frost',\n",
       "       'Not Applicable',\n",
       "       'Varies â\\x80\\x94 most plants only bloom once in their lifetime',\n",
       "       'Fall to spring', 'May (anthers appear)',\n",
       "       'Mid-autumn to mid-spring', 'Spring, Summer, Fall, Winter',\n",
       "       'SummerÂ\\xa0to fall', 'Year-round',\n",
       "       'Mid-summer through to fall; longer in frost-free climates',\n",
       "       'Late spring/summer', 'Summer thru fall',\n",
       "       'Midsummer to early fall', 'Late Winter, Spring',\n",
       "       'Year-round in frost-free climates', 'March through May',\n",
       "       'Late winter or early spring',\n",
       "       'Late spring to early fall (rarely flowers)', 'June and July',\n",
       "       'Usually late spring to early summer; houseplants may vary',\n",
       "       'Mayâ\\x80\\x94primary blooming periodâ\\x80\\x94till frost'],\n",
       "      dtype=object)"
      ]
     },
     "execution_count": 12,
     "metadata": {},
     "output_type": "execute_result"
    }
   ],
   "source": [
    "bloom"
   ]
  },
  {
   "cell_type": "code",
   "execution_count": 17,
   "id": "8cb36b68",
   "metadata": {},
   "outputs": [
    {
     "data": {
      "text/plain": [
       "'Summer, fall'"
      ]
     },
     "execution_count": 17,
     "metadata": {},
     "output_type": "execute_result"
    }
   ],
   "source": [
    "bloom[2]"
   ]
  },
  {
   "cell_type": "code",
   "execution_count": 31,
   "id": "56d12cca",
   "metadata": {
    "scrolled": true
   },
   "outputs": [],
   "source": [
    "sun =(df[\"Sun Exposure\"].unique())"
   ]
  },
  {
   "cell_type": "code",
   "execution_count": 29,
   "id": "7be8fdca",
   "metadata": {},
   "outputs": [
    {
     "data": {
      "text/plain": [
       "145"
      ]
     },
     "execution_count": 29,
     "metadata": {},
     "output_type": "execute_result"
    }
   ],
   "source": [
    "len(sun)"
   ]
  },
  {
   "cell_type": "code",
   "execution_count": 30,
   "id": "ab4d3270",
   "metadata": {},
   "outputs": [
    {
     "data": {
      "text/plain": [
       "'Full to Part Shade'"
      ]
     },
     "execution_count": 30,
     "metadata": {},
     "output_type": "execute_result"
    }
   ],
   "source": [
    "sun[72]"
   ]
  },
  {
   "cell_type": "code",
   "execution_count": 33,
   "id": "8a0fca1c",
   "metadata": {},
   "outputs": [
    {
     "data": {
      "text/plain": [
       "array(['Full sun', 'Full-sun, partial sun', 'Full',\n",
       "       'Partial sun to partial shade', 'Partial, shade',\n",
       "       'Full sun to part shade', 'Full sun, partial sun',\n",
       "       'Sun to partial shade', 'Full, Partial, Shade', 'Partial shade',\n",
       "       'Full sun (tolerates part shade/light woodland)', 'Full, partial',\n",
       "       'Full sun, partial shade',\n",
       "       'Partial (outdoor); bright, indirect light (indoors)', 'Full Sun',\n",
       "       'Partial', 'Full sun to partial shade',\n",
       "       'Full sun to light/part shade', 'Part shade, Full sun',\n",
       "       'Partial shade to full shade', 'Full sun to partial sun',\n",
       "       'Full or partial', 'Full Sun- Part Shade', 'Full to partial sun',\n",
       "       'Part shade to full shade', 'Bright, indirect light',\n",
       "       'Filtered, bright sun', 'Partial, Full',\n",
       "       'Bright indirect light; resents direct sunlight', 'Full, Partial',\n",
       "       'Partial to full shade', 'Full sun to part sun',\n",
       "       'Partial shade, shade', 'Part shade', 'Full to part sun',\n",
       "       'Full sun, Partial shade', 'Full sun / partial shade',\n",
       "       'Part sun, sun', 'Full Sun, Partial Sun', 'Bright indirect light',\n",
       "       'Full; 6 to 8 or more hours per day',\n",
       "       'Full sun; tolerates light shade', 'Full sun to shade',\n",
       "       'Part Sun/Part Shade', 'Partial Shade',\n",
       "       'Full, partial (varies according to variety)',\n",
       "       'Bright, indirect late to shade', 'Full sun, Partial Shade',\n",
       "       'Partial sun to full sun', 'Full sun, part shade', 'Shade',\n",
       "       'Full sun, part sun', 'Bright light - partial shade',\n",
       "       'Full sun is preferred; partial sun is tolerated',\n",
       "       'Partial sun, morning sun', 'Full sun, partial shade, full shade',\n",
       "       'Partial, full', 'Full Sun to Part Shade', 'Partial sun to shade',\n",
       "       'At least four hours of indirect, sun a day',\n",
       "       'Partial sun to dappled shade', 'Full sun to light shade',\n",
       "       'Full sun (likes some shade in very hot climates)',\n",
       "       'Part shade, shade',\n",
       "       'Indirect light (indoors), full to partial shade (outdoors)',\n",
       "       'Full sun/ partial shade', 'Partial, full shade', 'Part sun',\n",
       "       'Shade in summer and sun in winter', 'Partial sun, shade',\n",
       "       'Shade to partial sun', 'Partial to Full', 'Full to Part Shade',\n",
       "       'Full Sun, Partial Shade', 'Shade, Partial',\n",
       "       'Bright, indirect light or part shade',\n",
       "       'Full sun, part shade, shade', 'Full sun-bright, indirect light',\n",
       "       'Partial, Shade',\n",
       "       'FullÂ\\xa0(prefers some afternoon shade in the hottest zones)',\n",
       "       'Partial Sun, Full Shade', 'Partial shade (dappled sun)',\n",
       "       'Full sun to partial sun; will survive in partial shade',\n",
       "       'Part bright sunlight, part shade',\n",
       "       'Full sun in the far North, partial sun elsewhere',\n",
       "       'Full sunÂ\\xa0to part sun', 'Partial shade to full sun',\n",
       "       'Part sun, bright filtered light', 'Full Sun to Partial Shade',\n",
       "       'Bright light but not direct light', 'Full Sun/Part Sun',\n",
       "       'Full to partial',\n",
       "       'Full sun to partial shade (varies by species) but most prefer partial shade',\n",
       "       'Shade, partial', 'Shade to partial shade',\n",
       "       'Bright, indirect light to full sun', 'Partial to full sun',\n",
       "       'Full sun, light shade', 'Full Sun, Park Shade', 'Partial sun',\n",
       "       'Shade to full sun', 'Full Sun/Partial Shade', 'indoor',\n",
       "       'Dappled Sun/Part Shade', 'Filtered bright sun',\n",
       "       'Part Shade , Shade', 'Part to full shade', 'Fun sun',\n",
       "       'Full, partial, shade', 'Full to partialÂ\\xa0sun',\n",
       "       'Bright indirect light indoors', 'Part sun to full shade',\n",
       "       'Full sun, part sun, shade',\n",
       "       'Bright, direct light; tolerates some shade', 'Direct sun',\n",
       "       'Dappled sunlight', 'Bright filtered light',\n",
       "       'Partial shade to partial sun', 'Full sun; partial sun',\n",
       "       'Part sun to part shade', 'Full sun, afternoon shade',\n",
       "       'Full sun to part shade, depending on variety',\n",
       "       'Full shade to full sun', 'Full sun/partial shade',\n",
       "       'partial shade', 'Partial shade, full shade',\n",
       "       'Indirect sun to part shade',\n",
       "       'Bright indirect sunlight, partial shade',\n",
       "       'Full sun (tolerates part shade)',\n",
       "       'Part shade (Dappled sunlight and summertime afternoon shade)',\n",
       "       'Full sun to partialÂ\\xa0shade', 'Dappled sun',\n",
       "       'Full sun to part Shade', 'Part sun to shade',\n",
       "       'Indirect, medium to bright',\n",
       "       'Bright indirect light indoors; part shade outdoors',\n",
       "       'Partial Sun', 'Full sun (at least six hours per day)',\n",
       "       'Full sun toÂ\\xa0part shade', 'Partial sun, partial shade',\n",
       "       'Full, part', 'Indirect sun, 6 hours daily',\n",
       "       'Part shade; avoid direct full sun', 'Full shade',\n",
       "       'Bright, indirect sun'], dtype=object)"
      ]
     },
     "execution_count": 33,
     "metadata": {},
     "output_type": "execute_result"
    }
   ],
   "source": [
    "sun"
   ]
  },
  {
   "cell_type": "code",
   "execution_count": 6,
   "id": "e2e3a917",
   "metadata": {},
   "outputs": [],
   "source": [
    "pl = (df[\"Plant Type\"].unique())"
   ]
  },
  {
   "cell_type": "code",
   "execution_count": 7,
   "id": "31e1e4ff",
   "metadata": {},
   "outputs": [
    {
     "data": {
      "text/plain": [
       "382"
      ]
     },
     "execution_count": 7,
     "metadata": {},
     "output_type": "execute_result"
    }
   ],
   "source": [
    "len(pl)"
   ]
  },
  {
   "cell_type": "code",
   "execution_count": 8,
   "id": "c6fa2380",
   "metadata": {},
   "outputs": [
    {
     "data": {
      "text/plain": [
       "array(['Biennial, annual, vegetable', 'Evergreen shrub',\n",
       "       'Herbaceous, perennial', 'Perennial', 'Broadleaf Evergreen',\n",
       "       'Perennial, herbaceous, rhizome',\n",
       "       'Perennial, clustered parlour palm, reed palm, cane palm',\n",
       "       'Deciduous shrub/ tree', 'Vegetable', 'Biennial, vegetable',\n",
       "       'Fruit, tree, perennial', 'Perennial, Vine', 'Shrub', 'Succulent',\n",
       "       'Herbaceous perennial', 'Evergreen tree', 'Deciduous shrub',\n",
       "       'Tree', 'Annual, fruit', 'Creeping perennial grass',\n",
       "       'Perennial, annual', 'Perennial ornamental grass',\n",
       "       'Broadleaf evergreen', 'BroadleafÂ\\xa0evergreen shrub', 'Vine',\n",
       "       'PerennialÂ\\xa0bulb or corm', 'Perennial, bulb', 'Evergreen',\n",
       "       'Shrub, tree', 'Perennial, fruit', 'Vine, perennial',\n",
       "       'Annual, perennial', 'Herbaceous, perennial, annual',\n",
       "       'Deciduous Tree',\n",
       "       'Perennial vegetable, usually grown as an annual',\n",
       "       'Perennial, herbaceous', 'Tender perennial, annual',\n",
       "       'Deciduous tree', 'Perennial, evergreen climbing vine', 'Palm',\n",
       "       'Vegetable, perennial, annual', 'Perennial, vegetable',\n",
       "       'Evergreen tree usually grown as a houseplant',\n",
       "       'Herbaceous, Perennial', 'Deciduous fruit tree',\n",
       "       'Coniferous, evergreen', 'Annual', 'Terrestrial bromeliad',\n",
       "       'Perennial, annual, bulb', 'Herbaceous perennial, subshrub',\n",
       "       'Biennial, bulb', 'Root vegetable', 'Coniferous tree',\n",
       "       'Semi-succulent',\n",
       "       'Herbaceous biennial / biennial forb (a herbaceous flowering plant thatâ\\x80\\x99s not a grass) or short-lived perennial',\n",
       "       'Annual, vegetable', 'Broadleaf, deciduous, shrub',\n",
       "       'Vegetable, annual', 'Perennial, tuber',\n",
       "       'DeciduousÂ\\xa0flowering shrub', 'Tropical herb',\n",
       "       'Succulent, perennial', 'Herbaceous perennial, rhizome',\n",
       "       'Perennial vine (typically grown as an annual)', 'Tree, shrub',\n",
       "       'Perennial, shrub', 'Herbaceous perennials',\n",
       "       'Climbing vegetable vine', 'Biennial',\n",
       "       'Herbaceous vine, Perennial', 'Cactus, perennial, succulent',\n",
       "       'Herbaceous, perennial, shrub', 'Perennial turf grass',\n",
       "       'Herb, Annual', 'Deciduous fruiting shrub',\n",
       "       'Native herbaceous perennial',\n",
       "       'Hybrid blueberry cultivar, semi-evergreen', 'Perennial, vine',\n",
       "       'Evergreen shrub, groundcover', 'Evergreen perennial',\n",
       "       'Perennial grass', 'Evergreen tree (conifer)',\n",
       "       'Herbaceous perennial; usually grown as an annual', 'Bulb',\n",
       "       'Herbaceous, biennial', 'Annual vegetable', 'Cactus',\n",
       "       'Herbaceous perennial flower, usually grown as an annual',\n",
       "       'Perennial, rhizome', 'Woody perennia vine', 'Flowering shrub',\n",
       "       'Evergreen conifer', 'Perennial bunchgrass', 'Perennial herb',\n",
       "       'Perennial, Herbaceous', 'Flowering broadleaf evergreen shrub',\n",
       "       'Blooming evergreen shrub or tree', 'Fruit tree',\n",
       "       'Houseplant or perennial', 'Perennial, corm',\n",
       "       'Herbaceous, perennial, cactus', 'Deciduous, perennial vine',\n",
       "       'Perennial shrub', 'Annual or biennial', 'Perennial, herb',\n",
       "       'Herbaceous flowering perennial', 'Deciduous tree, shrub',\n",
       "       'Perennial succulent/cacti',\n",
       "       'Tender perennial usually grown as an annual',\n",
       "       'Sac fungi (mushroom)', 'Bulb, vine, succulent',\n",
       "       'Herbaceous annual', 'Evergreen Tree or shrub',\n",
       "       'Vegetable, perennial', 'Perennial, Succulent, Vine',\n",
       "       'Fruit, tree', 'Annual/Perennial', 'Perennial, annual, herbaceous',\n",
       "       'Succulent, cactus, perennial', 'Perennial grown from corms',\n",
       "       'Annual or perennial',\n",
       "       'Biennial vegetable (usually grown as annual)',\n",
       "       'Needled evergreen', 'Herbaceous, perennial, succulent',\n",
       "       'Shrub, herbaceous, perennial, annual',\n",
       "       'Succulent evergreen shrub, houseplant', 'Evergreen, herbaceous',\n",
       "       'Shrub (broadleaf evergreen)',\n",
       "       'Herbaceous perennial, often grown as an annual',\n",
       "       'Perennial, succulent', 'Evergreen coniferous tree',\n",
       "       'Perennial, fruit, shrub', 'Tropical broadleaf evergreen shrub',\n",
       "       'Oriental hybrid lily (bulbous, herbaceous perennial)',\n",
       "       'Perennial or annual herb', 'Flowering deciduous shrub',\n",
       "       'Annual, biennial', 'Deciduous flowering shrub',\n",
       "       'Perennial, Succulent', 'Biennial, Herbaceous',\n",
       "       'Tropical perennial', 'Succulent, rhizome', 'Decicuous shrub',\n",
       "       'Perennial, epiphyte', 'Tree,Â\\xa0shrub', 'Evergreen, rhizome',\n",
       "       'Perennial in warm climates, grown as an annual in USDA zones 8 and lower',\n",
       "       'Perennial vine (sometimes grown as an annual)',\n",
       "       'Annual, short-lived perennial',\n",
       "       'Herbaceous perennial flower often grown as an annual',\n",
       "       'Bulb plant', 'Perennial, Herb', 'Herbaceous perennial shrub',\n",
       "       'Perennial, groundcover, herbaceous', 'Flowering fruit tree',\n",
       "       'Evergreen perennial groundcover',\n",
       "       'Tender Perennial, Subshrub, Herbaceous',\n",
       "       'Succulent, evergreen perennial',\n",
       "       'Woody perennial trees and shrubs', 'Annual, biennial, vegetable',\n",
       "       'Deciduous shrub or small tree', 'Perennial, \"subshrub\"',\n",
       "       'Annual or short-lived perennial', 'perennial herbaceous',\n",
       "       'Flowering deciduous tree', 'Coniferous, needled, evergreen tree',\n",
       "       'Deciduous Shrub', 'Epiphyte', 'Annual, herbaceous',\n",
       "       'Shrub, tree, rhizome', 'Evergreen succulent',\n",
       "       'Broadleaf evergreen shrub or small tree',\n",
       "       'Evergreen, Herbaceous, Perennial', 'Perennial deciduous tree',\n",
       "       'Annual, perennial, rhizome', 'Evergreen, coniferous tree', 'Fern',\n",
       "       'Flowering tree',\n",
       "       'Perennial vegetable; usually grown as an annual',\n",
       "       'Tropical evergreen', 'Short-lived Perennial', 'Rhizomes',\n",
       "       'Tree, Fruit', 'Perennial, cactus',\n",
       "       'Perennial, annual, biennial, herbaceous', 'Biennial green',\n",
       "       'Tropical', 'Bulbous perennial', 'Evergreen, vine',\n",
       "       'Biennial, short-lived perennials',\n",
       "       'Semi-deciduous rhizomatous evergreen',\n",
       "       'Herbaceous perennial, or woody shrub',\n",
       "       'Evergreen, perennial, vine', 'Shrub, perennial', 'Grass',\n",
       "       'Epiphytic orchids', 'Perennial vine', 'Deciduous perennial',\n",
       "       'PerennialÂ\\xa0or annual', 'Tuberous blooming perennial',\n",
       "       'Shrub, rose', 'Groundcover', 'Ornamental perennial grass',\n",
       "       'Herbaceous perennial (usually grown as an annual)',\n",
       "       'Coniferous evergreen', 'Evergreen, Tree',\n",
       "       'Evergreen perennial, annual in containers, houseplant',\n",
       "       'Annual ornamental grass, tender perennial in warmer climates',\n",
       "       'Deciduous Grass', 'Bulb-forming perennial',\n",
       "       'Perennial, shrub, rose', 'Annual, perennial above Zone 7',\n",
       "       'Perennial, Tree', 'Houseplant or annual', 'Conifer', 'Fruit',\n",
       "       'Rhizome', 'Houseplant', 'Ornamental tree', 'Evergreen fruit tree',\n",
       "       'Broadleaf evergreen tree', 'Orchid', 'Coniferous evergreen tree',\n",
       "       'Tender perennial, usually grown as annual',\n",
       "       'Herbaceous, evergreen, rhizomatous perennial',\n",
       "       'Annual flowering succulent',\n",
       "       'Flowering succulents; herbaceous perennials and annuals; houseplants',\n",
       "       'Perennial in warm regions, annuals otherwise', 'Annual herb',\n",
       "       'Tree, deciduous', 'Corm, Perennial', 'Shrub, Evergreen',\n",
       "       'Ornamental grass', 'Herbaceous, perennial vine',\n",
       "       'Fruiting perennial', 'Annual vine', 'Tree, fruit',\n",
       "       'Palm or cycad', 'Broadleaf evergreen shrub',\n",
       "       'Perennial, evergreen', 'Perennial, groundcover',\n",
       "       'Perennial bulb (hardy in the North)',\n",
       "       'Herbaceous perennial, usually grown as an annual',\n",
       "       'Evergreen, perennial', 'Tender perennial',\n",
       "       'Annual, biennial, herbaceous',\n",
       "       'Fibrous bulb, perennial, clump-forming herb', 'Hardy perennial',\n",
       "       'Biennial, grown as an annual', 'Evergreen citrus tree',\n",
       "       'Woody shrub, perennial', 'Shrub, annual',\n",
       "       'Annual tuberous vegetable',\n",
       "       'Deciduous succulent (not related to true palms)',\n",
       "       'Herbaceous,Â\\xa0perennial (sometimes grown as annuals)',\n",
       "       'Perennial, annual, herb', 'Herbaceous, perennial, biennial',\n",
       "       'Perennial reed, sedge', 'Annual, herb',\n",
       "       'llthophytic or epiphytic cacti', 'Herb', 'Flower, shrub',\n",
       "       'Evergreen shrub/tree', 'Flowering tree, large shrub',\n",
       "       'Shrub, herbaceous, perennial', 'Broadleaf, deciduous tree',\n",
       "       'Succulent perennial', 'Perennial, annual, vine',\n",
       "       'Broadleaf, evergreen shrub', 'Broadleaf, evergreen, shrub/tree',\n",
       "       'Tropical perennial vine', 'Broadleaf, deciduousÂ\\xa0tree',\n",
       "       'Fruit/vegetable', 'Fruit, perennial',\n",
       "       'Deciduous tree / large shrub', 'Spice, Tree',\n",
       "       'Deciduous shrub with a vine-like growth habit', 'Tree, Shrub',\n",
       "       'Herbaceous Perennial', 'Annual, fruit, shrub',\n",
       "       'Perennial, Annual', 'Deciduous Conifer', 'Deciduous, Shrub',\n",
       "       'Annual, tender perennial', 'Deciduous', 'Evergreen vine',\n",
       "       'Cactus/Succulent', 'Perennial, tree',\n",
       "       'Herbaceous, with aÂ\\xa0perennialÂ\\xa0life cycle',\n",
       "       'Herbaceous, annual', 'Perennial succulent',\n",
       "       'Perennial, Tree, Shrub, Fruit', 'Perennial flower',\n",
       "       'Flowering perennial', 'Perennial, evergreen, shrub',\n",
       "       'Vegetable, biennial, annual',\n",
       "       'Herbaceous perennial, native wildflower', 'Tree, Perennial',\n",
       "       'Coniferous Evergreen', 'Tender perennial in frost-free zones',\n",
       "       'Tree or large shrub', 'Coniferous shrub, tree',\n",
       "       'Herbaceous, evergreen, perennial',\n",
       "       'Herbaceous, Perennial, Biennial', 'Perennial (sometimes annual)',\n",
       "       'Herbaceous perennial, often grown as a houseplant',\n",
       "       'Broadleaf evergreen shrub/ tree', 'HerbaceousÂ\\xa0perennial',\n",
       "       'Cactus, perennial', 'HerbaceousÂ\\xa0biennial', 'Herb, perennial',\n",
       "       'Tender perennial, vine', 'Perennial bulb', 'Tree, cycad',\n",
       "       'Herbacious perennial', 'Evergreen flowering shrub',\n",
       "       'Herbaceous annual (perennial in zones 10â\\x80\\x9311)',\n",
       "       'Tender annual', 'Evergreen tree/shrub',\n",
       "       'Needled evergreen tree often trimmed to be shrub-like',\n",
       "       'Perennial, Shrub', 'Broadleaf evergreen shrub or tree',\n",
       "       'Deciduous or evergreen shrub', 'Palm tree',\n",
       "       'Woody Perennial, Evergreen, Tree-like', 'Evergreen, tree, shrub',\n",
       "       'Herbaceous, perennial, corm', 'Perennial, annual, biennial',\n",
       "       'Annual and perennial herbaceous plants', 'Fruit, annual',\n",
       "       'Evergreen pine tree', 'Carnivorous', 'Herbaceous biennial',\n",
       "       'Climbing evergreen', 'Perennial, annual, groundcover, shrub',\n",
       "       'Perennial, grass', 'Shrub, groundcover',\n",
       "       'Herbaceous perennial bulb', 'Perennial, shrub, herb',\n",
       "       'Fruit-bearing, deciduous groundcover',\n",
       "       'Woody, deciduous, fruiting vine',\n",
       "       'Evergreen and deciduous shrubs',\n",
       "       'Herbaceous plant with a perennial life cycle',\n",
       "       'Biennial, short-lived perennial', 'Annual vegetable plant',\n",
       "       'Perennial, grown as an annual in colder zones',\n",
       "       'Deciduous shrub or tree', 'Deciduous perennial flowering vine',\n",
       "       'Perennial, herb, vegetable', 'Annual fruiting vine',\n",
       "       'Herbaceous perennial wildflower',\n",
       "       'Evergreen perennial (also grown as an annual)',\n",
       "       'Needled evergreen conifer', 'Herbaceous, perennial grass',\n",
       "       'Aquatic plant', 'Succulent, Vine, Evergreen',\n",
       "       'Rhizomatous evergreen', 'Herbaceous perennial, annual',\n",
       "       'Bulb, vegetable', 'Evergreen fern', 'Deciduous tree/shrub',\n",
       "       'Biennial vegetable; usually grown as an annual',\n",
       "       'Vine, succulent', 'Evergreen flower',\n",
       "       'Semi-woody shrub, often planted as an annual', 'Bulb, perennial',\n",
       "       'Deciduous flowering tree', 'Herbaceous shrub', 'Annual, vine',\n",
       "       'Perennial flowering vine',\n",
       "       'Perennial (commonly grown as annual), vegetable',\n",
       "       'Perennial or annual', 'Tree, evergreen', 'Evergreen, cactus',\n",
       "       'Annual, Perennial', 'Perennial in zones 9-11; otherwise annual',\n",
       "       'Evergreen perennial/shrub, often grown as an annual',\n",
       "       'Perennial vegetable', 'Perennial, Herbaceous Shrub',\n",
       "       'Deciduous shrub or woody perennial', 'Tropical succulent',\n",
       "       'Deciduous, perennial, flowering vine'], dtype=object)"
      ]
     },
     "execution_count": 8,
     "metadata": {},
     "output_type": "execute_result"
    }
   ],
   "source": [
    "pl"
   ]
  },
  {
   "cell_type": "code",
   "execution_count": 14,
   "id": "6225e5ec",
   "metadata": {},
   "outputs": [
    {
     "data": {
      "text/plain": [
       "'Herbaceous perennial, or woody shrub'"
      ]
     },
     "execution_count": 14,
     "metadata": {},
     "output_type": "execute_result"
    }
   ],
   "source": [
    "pl[191]"
   ]
  },
  {
   "cell_type": "code",
   "execution_count": null,
   "id": "7fb9cdd2",
   "metadata": {},
   "outputs": [],
   "source": [
    "'Annual or perennial',"
   ]
  },
  {
   "cell_type": "code",
   "execution_count": null,
   "id": "b27ba361",
   "metadata": {},
   "outputs": [],
   "source": [
    "'Annual vegetable plant',"
   ]
  },
  {
   "cell_type": "code",
   "execution_count": null,
   "id": "06625074",
   "metadata": {},
   "outputs": [],
   "source": [
    "'Deciduous, perennial, flowering vine'"
   ]
  }
 ],
 "metadata": {
  "kernelspec": {
   "display_name": "Python 3 (ipykernel)",
   "language": "python",
   "name": "python3"
  },
  "language_info": {
   "codemirror_mode": {
    "name": "ipython",
    "version": 3
   },
   "file_extension": ".py",
   "mimetype": "text/x-python",
   "name": "python",
   "nbconvert_exporter": "python",
   "pygments_lexer": "ipython3",
   "version": "3.9.13"
  }
 },
 "nbformat": 4,
 "nbformat_minor": 5
}
